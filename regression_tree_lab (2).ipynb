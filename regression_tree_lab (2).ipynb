{
  "cells": [
    {
      "cell_type": "code",
      "execution_count": 1,
      "metadata": {
        "id": "It5YphbjVLE9"
      },
      "outputs": [],
      "source": [
        "import pandas as pd\n",
        "import numpy as np"
      ]
    },
    {
      "cell_type": "code",
      "execution_count": 2,
      "metadata": {
        "id": "MZqS38ieBFDa"
      },
      "outputs": [],
      "source": [
        "data = pd.read_excel(\"houses_for_rent_madrid.xlsx\")"
      ]
    },
    {
      "cell_type": "code",
      "execution_count": 3,
      "metadata": {
        "id": "G26vfoZXBJXv"
      },
      "outputs": [
        {
          "data": {
            "text/plain": [
              "Id                int64\n",
              "District         object\n",
              "Address          object\n",
              "Number           object\n",
              "Area             object\n",
              "Rent              int64\n",
              "Bedrooms        float64\n",
              "Sq.Mt             int64\n",
              "Floor           float64\n",
              "Outer           float64\n",
              "Elevator        float64\n",
              "Penthouse         int64\n",
              "Cottage           int64\n",
              "Duplex            int64\n",
              "Semidetached      int64\n",
              "dtype: object"
            ]
          },
          "execution_count": 3,
          "metadata": {},
          "output_type": "execute_result"
        }
      ],
      "source": [
        "data.dtypes"
      ]
    },
    {
      "cell_type": "code",
      "execution_count": 4,
      "metadata": {
        "id": "wXEqOZtFCBXy"
      },
      "outputs": [],
      "source": [
        "# Data preparation: Remove Number, Address, Id, drop rows with missing values,\n",
        "# convert, get one-hot (dummy) encoding for the categoricals.\n",
        "# Split to 80%-20% train-test.\n",
        "from sklearn.model_selection import train_test_split\n",
        "data_prepared = data.drop(columns=[\"Number\", \"Address\", \"Id\"])\n",
        "data_prepared = data_prepared.dropna(axis=0)\n",
        "data_prepared[\"District\"] = data[\"District\"].astype(\"category\")\n",
        "data_prepared[\"Area\"] = data[\"Area\"].astype(\"category\")\n",
        "data_prepared = pd.get_dummies(data_prepared)\n",
        "data_train, data_test = train_test_split(data_prepared, train_size = 0.8)"
      ]
    },
    {
      "cell_type": "code",
      "execution_count": 5,
      "metadata": {
        "id": "nBfABuafC9WR"
      },
      "outputs": [
        {
          "data": {
            "text/plain": [
              "(1452, 170)"
            ]
          },
          "execution_count": 5,
          "metadata": {},
          "output_type": "execute_result"
        }
      ],
      "source": [
        "# How many features do we have now?\n",
        "data_train.shape"
      ]
    },
    {
      "cell_type": "code",
      "execution_count": 6,
      "metadata": {
        "id": "Ory1qpUACS3p"
      },
      "outputs": [],
      "source": [
        "from sklearn.tree import DecisionTreeRegressor\n",
        "from sklearn.metrics import r2_score"
      ]
    },
    {
      "cell_type": "markdown",
      "metadata": {
        "id": "B08FpD26JLlw"
      },
      "source": [
        "## Your job\n",
        "Train a regressor for \"Rent\" using decision trees.  Start with no restriction on the tree growth, and then try to fiddle with the \"max_depth\" parameter\n",
        "(to control the depth of the tree) and the \"min_samples_split\", which prevents splitting nodes that have too little training data in them.  Use a real number, for example, 0.05 means that the algorithm won't split nodes with less than 0.05*n training samples, where n is the size of the training set.\n",
        "\n",
        "Either using a loop or manually, find the best choice of min_samples_split and max_depth on the test set (which is here used as a validation set only)."
      ]
    },
    {
      "cell_type": "code",
      "execution_count": 10,
      "metadata": {
        "id": "JtNbI_87CZZ6"
      },
      "outputs": [
        {
          "data": {
            "text/plain": [
              "0.6615475655472474"
            ]
          },
          "execution_count": 10,
          "metadata": {},
          "output_type": "execute_result"
        }
      ],
      "source": [
        "# Documentation for DecisionTreeRegressor:\n",
        "# https://scikit-learn.org/stable/modules/generated/sklearn.tree.DecisionTreeRegressor.html#sklearn.tree.DecisionTreeRegressor\n",
        "\n",
        "clf = DecisionTreeRegressor(max_depth=5, min_samples_split=0.05)\n",
        "clf.fit(data_train.drop(columns=[\"Rent\"]), data_train[\"Rent\"])\n",
        "predictions = clf.predict(data_test.drop(columns=[\"Rent\"]))\n",
        "r2_score(data_test[\"Rent\"], predictions)"
      ]
    },
    {
      "cell_type": "code",
      "execution_count": 11,
      "metadata": {
        "id": "RQJXxOZeEBx_"
      },
      "outputs": [
        {
          "name": "stdout",
          "output_type": "stream",
          "text": [
            "Best r2 so far:  0.45521438356165234  with max_depth:  1  and min_samples_split:  0.01\n",
            "Best r2 so far:  0.5928605596613451  with max_depth:  2  and min_samples_split:  0.01\n",
            "Best r2 so far:  0.5972988738165249  with max_depth:  2  and min_samples_split:  0.12\n",
            "Best r2 so far:  0.648559698180802  with max_depth:  3  and min_samples_split:  0.01\n",
            "Best r2 so far:  0.6514954220316264  with max_depth:  4  and min_samples_split:  0.01\n",
            "Best r2 so far:  0.6521962164803873  with max_depth:  4  and min_samples_split:  0.02\n",
            "Best r2 so far:  0.6615591659395506  with max_depth:  4  and min_samples_split:  0.03\n",
            "Best r2 so far:  0.6622599603883115  with max_depth:  4  and min_samples_split:  0.04\n",
            "Best r2 so far:  0.6625230691584973  with max_depth:  5  and min_samples_split:  0.03\n",
            "Best r2 so far:  0.6627612566657555  with max_depth:  5  and min_samples_split:  0.04\n",
            "Best r2 so far:  0.666361892325138  with max_depth:  5  and min_samples_split:  0.08\n",
            "Best r2 so far:  0.6679921813634806  with max_depth:  7  and min_samples_split:  0.03\n",
            "Best r2 so far:  0.6685563854255003  with max_depth:  7  and min_samples_split:  0.04\n",
            "Best r2 so far:  0.6774155240131579  with max_depth:  8  and min_samples_split:  0.01\n",
            "Best r2 so far:  0.6813740544414268  with max_depth:  8  and min_samples_split:  0.03\n",
            "Best r2 so far:  0.682381246994535  with max_depth:  8  and min_samples_split:  0.04\n",
            "Best r2 so far:  0.6837459555915734  with max_depth:  9  and min_samples_split:  0.03\n",
            "Best r2 so far:  0.6839502180760431  with max_depth:  9  and min_samples_split:  0.04\n",
            "Best r2 so far:  0.6948142831642481  with max_depth:  10  and min_samples_split:  0.01\n",
            "Best r2 so far:  0.6983596089347639  with max_depth:  14  and min_samples_split:  0.03\n"
          ]
        }
      ],
      "source": [
        "\n",
        "best_r2 = 0\n",
        "best_max_depth = 0\n",
        "best_min_samples_split = 0\n",
        "\n",
        "for max_depth in range(1, 20):\n",
        "    for min_samples_split in np.linspace(0.01, 0.5, 50):\n",
        "        clf = DecisionTreeRegressor(max_depth=max_depth, min_samples_split=min_samples_split)\n",
        "        clf.fit(data_train.drop(columns=[\"Rent\"]), data_train[\"Rent\"])\n",
        "        predictions = clf.predict(data_test.drop(columns=[\"Rent\"]))\n",
        "        r2 = r2_score(data_test[\"Rent\"], predictions)\n",
        "        if r2 > best_r2:\n",
        "            best_r2 = r2\n",
        "            best_max_depth = max_depth\n",
        "            best_min_samples_split = min_samples_split\n",
        "            print(\"Best r2 so far: \", best_r2, \" with max_depth: \", best_max_depth, \" and min_samples_split: \", best_min_samples_split)"
      ]
    },
    {
      "cell_type": "code",
      "execution_count": null,
      "metadata": {},
      "outputs": [],
      "source": []
    }
  ],
  "metadata": {
    "colab": {
      "provenance": []
    },
    "kernelspec": {
      "display_name": "Python 3",
      "name": "python3"
    },
    "language_info": {
      "codemirror_mode": {
        "name": "ipython",
        "version": 3
      },
      "file_extension": ".py",
      "mimetype": "text/x-python",
      "name": "python",
      "nbconvert_exporter": "python",
      "pygments_lexer": "ipython3",
      "version": "3.11.4"
    }
  },
  "nbformat": 4,
  "nbformat_minor": 0
}
